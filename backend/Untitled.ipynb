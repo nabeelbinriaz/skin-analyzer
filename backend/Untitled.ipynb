{
 "cells": [
  {
   "cell_type": "code",
   "execution_count": 1,
   "id": "45482cad",
   "metadata": {},
   "outputs": [
    {
     "name": "stderr",
     "output_type": "stream",
     "text": [
      "\n",
      "0: 640x640 2 Acne Detect - v2 2023-02-09 10-16ams, 409.6ms\n",
      "Speed: 13.4ms preprocess, 409.6ms inference, 15.6ms postprocess per image at shape (1, 3, 640, 640)\n"
     ]
    },
    {
     "data": {
      "text/plain": [
       "True"
      ]
     },
     "execution_count": 1,
     "metadata": {},
     "output_type": "execute_result"
    }
   ],
   "source": [
    "from ultralytics import YOLO\n",
    "import cv2\n",
    "import numpy as np\n",
    "\n",
    "model_path = 'dark cirle final.pt'\n",
    "image_path = 'aaa.jpg'\n",
    "\n",
    "img = cv2.imread(image_path)\n",
    "H, W, _ = img.shape\n",
    "\n",
    "model = YOLO(model_path)\n",
    "\n",
    "results = model(img)\n",
    "\n",
    "# Create an empty mask to accumulate all segmentations\n",
    "combined_mask = np.zeros((H, W, 3), dtype=np.uint8)\n",
    "color = (0, 0, 255)\n",
    "for result in results:\n",
    "    for j, mask in enumerate(result.masks.data):\n",
    "        mask = (mask.numpy() * 255).astype(np.uint8)  # Convert to np.uint8\n",
    "        mask = cv2.resize(mask, (W, H))\n",
    "        \n",
    "        # Create a 3-channel black canvas\n",
    "        overlay = np.zeros((H, W, 3), dtype=np.uint8)\n",
    "        overlay[:, :, 2] = mask  # Set the red channel to the mask\n",
    "        \n",
    "        # Set the transparency level for the overlay\n",
    "        alpha = 0.5  # Adjust as needed\n",
    "        \n",
    "        # Overlay the mask on the combined_mask\n",
    "        combined_mask = cv2.addWeighted(overlay, alpha, combined_mask, 1 - alpha, 0)\n",
    "\n",
    "# Overlay the combined mask on the original image\n",
    "segmented_img = cv2.addWeighted(img, 1, combined_mask, 1, 0)\n",
    "\n",
    "# Increase the brightness in the segmented area (make it brighter)\n",
    "brightness_factor = 0.2  # Adjust the factor to control brightness\n",
    "segmented_img = cv2.addWeighted(segmented_img, brightness_factor, np.zeros_like(segmented_img), 0, 0)\n",
    "\n",
    "# Save or display the segmented image\n",
    "cv2.imwrite('./output_combined.png', segmented_img)"
   ]
  },
  {
   "cell_type": "code",
   "execution_count": 2,
   "id": "b7acea1f",
   "metadata": {},
   "outputs": [
    {
     "name": "stderr",
     "output_type": "stream",
     "text": [
      "\n",
      "0: 640x640 2 Acne Detect - v2 2023-02-09 10-16ams, 348.5ms\n",
      "Speed: 5.1ms preprocess, 348.5ms inference, 6.0ms postprocess per image at shape (1, 3, 640, 640)\n"
     ]
    },
    {
     "data": {
      "text/plain": [
       "True"
      ]
     },
     "execution_count": 2,
     "metadata": {},
     "output_type": "execute_result"
    }
   ],
   "source": [
    "from ultralytics import YOLO\n",
    "import cv2\n",
    "import numpy as np\n",
    "\n",
    "model_path = 'dark cirle final.pt'\n",
    "image_path = 'aaa.jpg'\n",
    "\n",
    "img = cv2.imread(image_path)\n",
    "H, W, _ = img.shape\n",
    "\n",
    "model = YOLO(model_path)\n",
    "\n",
    "results = model(img)\n",
    "\n",
    "# Create an empty mask to accumulate all segmentations\n",
    "combined_mask = np.zeros((H, W, 3), dtype=np.uint8)\n",
    "color = (0, 0, 255)\n",
    "for result in results:\n",
    "    for j, mask in enumerate(result.masks.data):\n",
    "        mask = (mask.numpy() * 255).astype(np.uint8)  # Convert to np.uint8\n",
    "        mask = cv2.resize(mask, (W, H))\n",
    "        \n",
    "        # Create a 3-channel black canvas\n",
    "        overlay = np.zeros((H, W, 3), dtype=np.uint8)\n",
    "        overlay[:, :, 2] = mask  # Set the red channel to the mask\n",
    "        \n",
    "        # Set the transparency level for the overlay\n",
    "        alpha = 0.5  # Adjust as needed\n",
    "        \n",
    "        # Overlay the mask on the combined_mask\n",
    "        combined_mask = cv2.addWeighted(overlay, alpha, combined_mask, 1 - alpha, 0)\n",
    "\n",
    "# Overlay the combined mask on the original image\n",
    "segmented_img = cv2.addWeighted(img, 1, combined_mask, 1, 0)\n",
    "\n",
    "segmented_mask = cv2.cvtColor(combined_mask, cv2.COLOR_BGR2GRAY)\n",
    "\n",
    "# Threshold the mask to obtain a binary mask\n",
    "_, segmented_mask = cv2.threshold(segmented_mask, 1, 255, cv2.THRESH_BINARY)\n",
    "\n",
    "# Increase the contrast in the segmented area\n",
    "contrast_factor = 1.5  # Adjust the factor to control contrast\n",
    "\n",
    "# Apply the contrast adjustment only to the segmented area\n",
    "segmented_img = cv2.addWeighted(segmented_img, contrast_factor, np.zeros_like(segmented_img), 0, 0, segmented_mask)\n",
    "\n",
    "# Save or display the segmented image\n",
    "cv2.imwrite('./output_combined.png', segmented_img)\n"
   ]
  },
  {
   "cell_type": "code",
   "execution_count": 44,
   "id": "e7f7b189",
   "metadata": {},
   "outputs": [
    {
     "name": "stderr",
     "output_type": "stream",
     "text": [
      "\n",
      "0: 480x640 1 -, 227.9ms\n",
      "Speed: 4.1ms preprocess, 227.9ms inference, 15.6ms postprocess per image at shape (1, 3, 480, 640)\n"
     ]
    },
    {
     "data": {
      "text/plain": [
       "True"
      ]
     },
     "execution_count": 44,
     "metadata": {},
     "output_type": "execute_result"
    }
   ],
   "source": [
    "from ultralytics import YOLO\n",
    "import cv2\n",
    "import numpy as np\n",
    "\n",
    "model_path = 'dark spots final.pt'\n",
    "image_path = 'cvb.jpg'\n",
    "\n",
    "img = cv2.imread(image_path)\n",
    "H, W, _ = img.shape\n",
    "\n",
    "model = YOLO(model_path)\n",
    "\n",
    "results = model(img)\n",
    "\n",
    "# Create an empty mask to accumulate all segmentations\n",
    "combined_mask = np.zeros((H, W, 3), dtype=np.uint8)\n",
    "for result in results:\n",
    "    for j, mask in enumerate(result.masks.data):\n",
    "        mask = (mask.numpy() * 255).astype(np.uint8)  # Convert to np.uint8\n",
    "        mask = cv2.resize(mask, (W, H))\n",
    "        \n",
    "        # Create a 3-channel black canvas\n",
    "        overlay = np.zeros((H, W, 3), dtype=np.uint8)\n",
    "        overlay[:, :, 2] = mask  # Set the red channel to the mask\n",
    "        \n",
    "        # Set the transparency level for the overlay\n",
    "        alpha = 0.1  # Adjust as needed\n",
    "        \n",
    "        # Overlay the mask on the combined_mask\n",
    "        combined_mask = cv2.addWeighted(overlay, alpha, combined_mask, 1 - alpha, 0.5)\n",
    "\n",
    "# Multiply the segmented area by a factor to increase prominence\n",
    "prominence_factor = 2  # Adjust the factor to control prominence\n",
    "segmented_img = cv2.multiply(img, np.where(combined_mask > 0, prominence_factor, 1).astype(img.dtype))\n",
    "\n",
    "# Save or display the segmented image\n",
    "cv2.imwrite('./output_combined.png', segmented_img)\n"
   ]
  },
  {
   "cell_type": "code",
   "execution_count": null,
   "id": "22b70356",
   "metadata": {},
   "outputs": [],
   "source": []
  }
 ],
 "metadata": {
  "kernelspec": {
   "display_name": "Python 3 (ipykernel)",
   "language": "python",
   "name": "python3"
  },
  "language_info": {
   "codemirror_mode": {
    "name": "ipython",
    "version": 3
   },
   "file_extension": ".py",
   "mimetype": "text/x-python",
   "name": "python",
   "nbconvert_exporter": "python",
   "pygments_lexer": "ipython3",
   "version": "3.11.5"
  }
 },
 "nbformat": 4,
 "nbformat_minor": 5
}
